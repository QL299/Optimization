{
 "cells": [
  {
   "cell_type": "code",
   "execution_count": 1,
   "metadata": {},
   "outputs": [],
   "source": [
    "from gurobipy import *"
   ]
  },
  {
   "cell_type": "markdown",
   "metadata": {},
   "source": [
    "# Q2_18"
   ]
  },
  {
   "cell_type": "code",
   "execution_count": 2,
   "metadata": {},
   "outputs": [
    {
     "name": "stdout",
     "output_type": "stream",
     "text": [
      "Academic license - for non-commercial use only\n"
     ]
    }
   ],
   "source": [
    "Model_2_18 = Model (\"Q2_18\")"
   ]
  },
  {
   "cell_type": "code",
   "execution_count": 3,
   "metadata": {},
   "outputs": [],
   "source": [
    "x13 = Model_2_18.addVar (vtype = GRB.CONTINUOUS, name = \"x13\")\n",
    "x12 = Model_2_18.addVar (vtype = GRB.CONTINUOUS, name = \"x12\")\n",
    "x23 = Model_2_18.addVar (vtype = GRB.CONTINUOUS, name = \"x23\")\n",
    "x25 = Model_2_18.addVar (vtype = GRB.CONTINUOUS, name = \"x25\")\n",
    "x24 = Model_2_18.addVar (vtype = GRB.CONTINUOUS, name = \"x24\")\n",
    "x35 = Model_2_18.addVar (vtype = GRB.CONTINUOUS, name = \"x35\")\n",
    "x34 = Model_2_18.addVar (vtype = GRB.CONTINUOUS, name = \"x34\")\n",
    "x36 = Model_2_18.addVar (vtype = GRB.CONTINUOUS, name = \"x36\")\n",
    "x45 = Model_2_18.addVar (vtype = GRB.CONTINUOUS, name = \"x45\")\n",
    "x46 = Model_2_18.addVar (vtype = GRB.CONTINUOUS, name = \"x46\")\n",
    "x47 = Model_2_18.addVar (vtype = GRB.CONTINUOUS, name = \"x47\")\n",
    "x56 = Model_2_18.addVar (vtype = GRB.CONTINUOUS, name = \"x56\")\n",
    "x57 = Model_2_18.addVar (vtype = GRB.CONTINUOUS, name = \"x57\")\n",
    "x67 = Model_2_18.addVar (vtype = GRB.CONTINUOUS, name = \"x67\")\n",
    "x68 = Model_2_18.addVar (vtype = GRB.CONTINUOUS, name = \"x68\")\n",
    "x78 = Model_2_18.addVar (vtype = GRB.CONTINUOUS, name = \"x78\")\n",
    "Model_2_18.update()"
   ]
  },
  {
   "cell_type": "code",
   "execution_count": 4,
   "metadata": {},
   "outputs": [],
   "source": [
    "objExpr = LinExpr()\n",
    "objExpr += 2*x13\n",
    "objExpr += 1*x12\n",
    "objExpr += 1*x23\n",
    "objExpr += 2*x25\n",
    "objExpr += 5*x24\n",
    "objExpr += 1*x35\n",
    "objExpr += 2*x34\n",
    "objExpr += 4*x36\n",
    "objExpr += 3*x45\n",
    "objExpr += 6*x46\n",
    "objExpr += 8*x47\n",
    "objExpr += 3*x56\n",
    "objExpr += 7*x57\n",
    "objExpr += 5*x67\n",
    "objExpr += 2*x68\n",
    "objExpr += 6*x78\n",
    "Model_2_18.setObjective(objExpr, GRB.MINIMIZE)"
   ]
  },
  {
   "cell_type": "code",
   "execution_count": 5,
   "metadata": {},
   "outputs": [],
   "source": [
    "firstConst = LinExpr()\n",
    "firstConst += x13\n",
    "firstConst += x12\n",
    "Model_2_18.addConstr( lhs = firstConst, sense = GRB.EQUAL, rhs = 1, name = \"firstconstraint\" )\n",
    "\n",
    "secondConst = LinExpr()\n",
    "secondConst += x23\n",
    "secondConst += x25\n",
    "secondConst += x24\n",
    "secondConst -= x12\n",
    "Model_2_18.addConstr( lhs = secondConst, sense = GRB.EQUAL, rhs = 0, name = \"secondconstraint\")\n",
    "\n",
    "thirdConst = LinExpr()\n",
    "thirdConst += x34\n",
    "thirdConst += x35\n",
    "thirdConst += x36\n",
    "thirdConst -= x13\n",
    "thirdConst -= x23\n",
    "Model_2_18.addConstr( lhs = thirdConst, sense = GRB.EQUAL, rhs = 0, name = \"thirdconstraint\")\n",
    "\n",
    "fourthConst = LinExpr()\n",
    "fourthConst += x45\n",
    "fourthConst += x46\n",
    "fourthConst += x47\n",
    "fourthConst -= x34\n",
    "fourthConst -= x24\n",
    "Model_2_18.addConstr( lhs = fourthConst, sense = GRB.EQUAL, rhs = 0, name = \"fourthconstraint\")\n",
    "\n",
    "fifthConst = LinExpr()\n",
    "fifthConst += x56\n",
    "fifthConst += x57\n",
    "fifthConst -= x25\n",
    "fifthConst -= x35\n",
    "fifthConst -= x45\n",
    "Model_2_18.addConstr( lhs = fifthConst, sense = GRB.EQUAL, rhs = 0, name = \"fifthconstraint\")\n",
    "\n",
    "sixthConst = LinExpr()\n",
    "sixthConst += x68\n",
    "sixthConst += x67\n",
    "sixthConst -= x36\n",
    "sixthConst -= x56\n",
    "sixthConst -= x46\n",
    "Model_2_18.addConstr( lhs = sixthConst, sense = GRB.EQUAL, rhs = 0, name = \"sixthconstraint\")\n",
    "\n",
    "seventhConst = LinExpr()\n",
    "seventhConst += x78\n",
    "seventhConst -= x67\n",
    "seventhConst -= x57\n",
    "seventhConst -= x47\n",
    "Model_2_18.addConstr( lhs = seventhConst, sense = GRB.EQUAL, rhs = 0, name = \"seventhconstraint\")\n",
    "\n",
    "eighthConst = LinExpr()\n",
    "eighthConst += x78\n",
    "eighthConst += x68\n",
    "Model_2_18.addConstr( lhs = eighthConst, sense = GRB.EQUAL, rhs = 1, name = \"eighthconstraint\")\n",
    "\n",
    "Model_2_18.update()\n",
    "Model_2_18.write ( filename = \"Q2_1Out.lp\")\n"
   ]
  },
  {
   "cell_type": "code",
   "execution_count": 6,
   "metadata": {},
   "outputs": [
    {
     "name": "stdout",
     "output_type": "stream",
     "text": [
      "Optimize a model with 8 rows, 16 columns and 32 nonzeros\n",
      "Coefficient statistics:\n",
      "  Matrix range     [1e+00, 1e+00]\n",
      "  Objective range  [1e+00, 8e+00]\n",
      "  Bounds range     [0e+00, 0e+00]\n",
      "  RHS range        [1e+00, 1e+00]\n",
      "Presolve removed 2 rows and 4 columns\n",
      "Presolve time: 0.01s\n",
      "Presolved: 6 rows, 12 columns, 24 nonzeros\n",
      "\n",
      "Iteration    Objective       Primal Inf.    Dual Inf.      Time\n",
      "       0    3.9920000e+00   1.503000e+00   0.000000e+00      0s\n",
      "       3    8.0000000e+00   0.000000e+00   0.000000e+00      0s\n",
      "\n",
      "Solved in 3 iterations and 0.02 seconds\n",
      "Optimal objective  8.000000000e+00\n"
     ]
    }
   ],
   "source": [
    "Model_2_18.optimize()"
   ]
  },
  {
   "cell_type": "code",
   "execution_count": 7,
   "metadata": {},
   "outputs": [
    {
     "name": "stdout",
     "output_type": "stream",
     "text": [
      "optimal Objective: \n",
      "8.0\n",
      "optimal Solution:\n",
      "x13 0.0\n",
      "x12 1.0\n",
      "x23 1.0\n",
      "x25 0.0\n",
      "x24 0.0\n",
      "x35 1.0\n",
      "x34 0.0\n",
      "x36 0.0\n",
      "x45 0.0\n",
      "x46 0.0\n",
      "x47 0.0\n",
      "x56 1.0\n",
      "x57 0.0\n",
      "x67 0.0\n",
      "x68 1.0\n",
      "x78 0.0\n"
     ]
    }
   ],
   "source": [
    "print(\"optimal Objective: \\n\" + str(Model_2_18.ObjVal))\n",
    "print(\"optimal Solution:\")\n",
    "allVars = Model_2_18.getVars()\n",
    "for curVar in allVars:\n",
    "    print(curVar.varName + \" \" + str(curVar.x))"
   ]
  },
  {
   "cell_type": "markdown",
   "metadata": {},
   "source": [
    "# Q2_16"
   ]
  },
  {
   "cell_type": "code",
   "execution_count": 8,
   "metadata": {},
   "outputs": [],
   "source": [
    "Model_2_16 = Model (\"Q2_16\")"
   ]
  },
  {
   "cell_type": "code",
   "execution_count": 9,
   "metadata": {},
   "outputs": [],
   "source": [
    "x13 = Model_2_16.addVar (vtype = GRB.CONTINUOUS, name = \"x13\")\n",
    "x12 = Model_2_16.addVar (vtype = GRB.CONTINUOUS, name = \"x12\")\n",
    "x23 = Model_2_16.addVar (vtype = GRB.CONTINUOUS, name = \"x23\")\n",
    "x25 = Model_2_16.addVar (vtype = GRB.CONTINUOUS, name = \"x25\")\n",
    "x24 = Model_2_16.addVar (vtype = GRB.CONTINUOUS, name = \"x24\")\n",
    "x35 = Model_2_16.addVar (vtype = GRB.CONTINUOUS, name = \"x35\")\n",
    "x34 = Model_2_16.addVar (vtype = GRB.CONTINUOUS, name = \"x34\")\n",
    "x36 = Model_2_16.addVar (vtype = GRB.CONTINUOUS, name = \"x36\")\n",
    "x45 = Model_2_16.addVar (vtype = GRB.CONTINUOUS, name = \"x45\")\n",
    "x46 = Model_2_16.addVar (vtype = GRB.CONTINUOUS, name = \"x46\")\n",
    "x56 = Model_2_16.addVar (vtype = GRB.CONTINUOUS, name = \"x56\")\n",
    "Model_2_16.update()"
   ]
  },
  {
   "cell_type": "code",
   "execution_count": 10,
   "metadata": {},
   "outputs": [],
   "source": [
    "objExpr = LinExpr()\n",
    "objExpr += 2*x13\n",
    "objExpr += 1*x12\n",
    "objExpr += 1*x23\n",
    "objExpr += 2*x25\n",
    "objExpr += 5*x24\n",
    "objExpr += 1*x35\n",
    "objExpr += 2*x34\n",
    "objExpr += 4*x36\n",
    "objExpr += 3*x45\n",
    "objExpr += 6*x46\n",
    "objExpr += 3*x56\n",
    "Model_2_16.setObjective(objExpr, GRB.MINIMIZE)"
   ]
  },
  {
   "cell_type": "code",
   "execution_count": 11,
   "metadata": {},
   "outputs": [],
   "source": [
    "firstConst = LinExpr()\n",
    "firstConst += x13\n",
    "firstConst += x12\n",
    "Model_2_16.addConstr( lhs = firstConst, sense = GRB.EQUAL, rhs = 1, name = \"firstconstraint\" )\n",
    "\n",
    "secondConst = LinExpr()\n",
    "secondConst += x23\n",
    "secondConst += x25\n",
    "secondConst += x24\n",
    "secondConst -= x12\n",
    "Model_2_16.addConstr( lhs = secondConst, sense = GRB.EQUAL, rhs = 0, name = \"secondconstraint\")\n",
    "\n",
    "thirdConst = LinExpr()\n",
    "thirdConst += x34\n",
    "thirdConst += x35\n",
    "thirdConst += x36\n",
    "thirdConst -= x13\n",
    "thirdConst -= x23\n",
    "Model_2_16.addConstr( lhs = thirdConst, sense = GRB.EQUAL, rhs = 0, name = \"thirdconstraint\")\n",
    "\n",
    "fourthConst = LinExpr()\n",
    "fourthConst += x45\n",
    "fourthConst += x46\n",
    "fourthConst -= x34\n",
    "fourthConst -= x24\n",
    "Model_2_16.addConstr( lhs = fourthConst, sense = GRB.EQUAL, rhs = 0, name = \"fourthconstraint\")\n",
    "\n",
    "fifthConst = LinExpr()\n",
    "fifthConst += x56\n",
    "fifthConst -= x25\n",
    "fifthConst -= x35\n",
    "fifthConst -= x45\n",
    "Model_2_16.addConstr( lhs = fifthConst, sense = GRB.EQUAL, rhs = 0, name = \"fifthconstraint\")\n",
    "\n",
    "sixthConst = LinExpr()\n",
    "sixthConst += x36\n",
    "sixthConst += x56\n",
    "sixthConst += x46\n",
    "Model_2_16.addConstr( lhs = sixthConst, sense = GRB.EQUAL, rhs = 1, name = \"sixthconstraint\")\n",
    "\n",
    "Model_2_16.update()\n",
    "Model_2_16.write ( filename = \"Q2_2Out.lp\")"
   ]
  },
  {
   "cell_type": "code",
   "execution_count": 12,
   "metadata": {},
   "outputs": [
    {
     "name": "stdout",
     "output_type": "stream",
     "text": [
      "Optimize a model with 6 rows, 11 columns and 22 nonzeros\n",
      "Coefficient statistics:\n",
      "  Matrix range     [1e+00, 1e+00]\n",
      "  Objective range  [1e+00, 6e+00]\n",
      "  Bounds range     [0e+00, 0e+00]\n",
      "  RHS range        [1e+00, 1e+00]\n",
      "Presolve removed 2 rows and 5 columns\n",
      "Presolve time: 0.01s\n",
      "Presolved: 4 rows, 6 columns, 12 nonzeros\n",
      "\n",
      "Iteration    Objective       Primal Inf.    Dual Inf.      Time\n",
      "       0    5.0000000e+00   2.000000e+00   0.000000e+00      0s\n",
      "       1    6.0000000e+00   0.000000e+00   0.000000e+00      0s\n",
      "\n",
      "Solved in 1 iterations and 0.02 seconds\n",
      "Optimal objective  6.000000000e+00\n"
     ]
    }
   ],
   "source": [
    "Model_2_16.optimize()"
   ]
  },
  {
   "cell_type": "code",
   "execution_count": 13,
   "metadata": {},
   "outputs": [
    {
     "name": "stdout",
     "output_type": "stream",
     "text": [
      "optimal Objective: \n",
      "6.0\n",
      "optimal Solution:\n",
      "x13 0.0\n",
      "x12 1.0\n",
      "x23 0.0\n",
      "x25 1.0\n",
      "x24 0.0\n",
      "x35 0.0\n",
      "x34 0.0\n",
      "x36 0.0\n",
      "x45 0.0\n",
      "x46 0.0\n",
      "x56 1.0\n"
     ]
    }
   ],
   "source": [
    "print(\"optimal Objective: \\n\" + str(Model_2_16.ObjVal))\n",
    "print(\"optimal Solution:\")\n",
    "allVars = Model_2_16.getVars()\n",
    "for curVar in allVars:\n",
    "    print(curVar.varName + \" \" + str(curVar.x))"
   ]
  },
  {
   "cell_type": "markdown",
   "metadata": {},
   "source": [
    "# Q2_48"
   ]
  },
  {
   "cell_type": "code",
   "execution_count": 14,
   "metadata": {},
   "outputs": [],
   "source": [
    "Model_2_48 = Model (\"Q2_48\")"
   ]
  },
  {
   "cell_type": "code",
   "execution_count": 15,
   "metadata": {},
   "outputs": [],
   "source": [
    "x45 = Model_2_48.addVar (vtype = GRB.CONTINUOUS, name = \"x45\")\n",
    "x46 = Model_2_48.addVar (vtype = GRB.CONTINUOUS, name = \"x46\")\n",
    "x47 = Model_2_48.addVar (vtype = GRB.CONTINUOUS, name = \"x47\")\n",
    "x56 = Model_2_48.addVar (vtype = GRB.CONTINUOUS, name = \"x56\")\n",
    "x57 = Model_2_48.addVar (vtype = GRB.CONTINUOUS, name = \"x57\")\n",
    "x67 = Model_2_48.addVar (vtype = GRB.CONTINUOUS, name = \"x67\")\n",
    "x68 = Model_2_48.addVar (vtype = GRB.CONTINUOUS, name = \"x68\")\n",
    "x78 = Model_2_48.addVar (vtype = GRB.CONTINUOUS, name = \"x78\")\n",
    "Model_2_48.update()"
   ]
  },
  {
   "cell_type": "code",
   "execution_count": 16,
   "metadata": {},
   "outputs": [],
   "source": [
    "objExpr = LinExpr()\n",
    "objExpr += 3*x45\n",
    "objExpr += 6*x46\n",
    "objExpr += 8*x47\n",
    "objExpr += 3*x56\n",
    "objExpr += 7*x57\n",
    "objExpr += 5*x67\n",
    "objExpr += 2*x68\n",
    "objExpr += 6*x78\n",
    "Model_2_48.setObjective(objExpr, GRB.MINIMIZE)"
   ]
  },
  {
   "cell_type": "code",
   "execution_count": 17,
   "metadata": {},
   "outputs": [],
   "source": [
    "fourthConst = LinExpr()\n",
    "fourthConst += x45\n",
    "fourthConst += x46\n",
    "fourthConst += x47\n",
    "Model_2_48.addConstr( lhs = fourthConst, sense = GRB.EQUAL, rhs = 1, name = \"fourthconstraint\")\n",
    "\n",
    "fifthConst = LinExpr()\n",
    "fifthConst += x56\n",
    "fifthConst += x57\n",
    "fifthConst -= x45\n",
    "Model_2_48.addConstr( lhs = fifthConst, sense = GRB.EQUAL, rhs = 0, name = \"fifthconstraint\")\n",
    "\n",
    "sixthConst = LinExpr()\n",
    "sixthConst += x68\n",
    "sixthConst += x67\n",
    "sixthConst -= x56\n",
    "sixthConst -= x46\n",
    "Model_2_48.addConstr( lhs = sixthConst, sense = GRB.EQUAL, rhs = 0, name = \"sixthconstraint\")\n",
    "\n",
    "seventhConst = LinExpr()\n",
    "seventhConst += x78\n",
    "seventhConst -= x67\n",
    "seventhConst -= x57\n",
    "seventhConst -= x47\n",
    "Model_2_48.addConstr( lhs = seventhConst, sense = GRB.EQUAL, rhs = 0, name = \"seventhconstraint\")\n",
    "\n",
    "eighthConst = LinExpr()\n",
    "eighthConst += x78\n",
    "eighthConst += x68\n",
    "Model_2_48.addConstr( lhs = eighthConst, sense = GRB.EQUAL, rhs = 1, name = \"eighthconstraint\")\n",
    "\n",
    "Model_2_48.update()\n",
    "Model_2_48.write ( filename = \"Q2_3Out.lp\")"
   ]
  },
  {
   "cell_type": "code",
   "execution_count": 18,
   "metadata": {},
   "outputs": [
    {
     "name": "stdout",
     "output_type": "stream",
     "text": [
      "Optimize a model with 5 rows, 8 columns and 16 nonzeros\n",
      "Coefficient statistics:\n",
      "  Matrix range     [1e+00, 1e+00]\n",
      "  Objective range  [2e+00, 8e+00]\n",
      "  Bounds range     [0e+00, 0e+00]\n",
      "  RHS range        [1e+00, 1e+00]\n",
      "Presolve removed 2 rows and 5 columns\n",
      "Presolve time: 0.01s\n",
      "Presolved: 3 rows, 3 columns, 6 nonzeros\n",
      "\n",
      "Iteration    Objective       Primal Inf.    Dual Inf.      Time\n",
      "       0    7.9920000e+00   4.000000e-03   0.000000e+00      0s\n",
      "       1    8.0000000e+00   0.000000e+00   0.000000e+00      0s\n",
      "\n",
      "Solved in 1 iterations and 0.02 seconds\n",
      "Optimal objective  8.000000000e+00\n"
     ]
    }
   ],
   "source": [
    "Model_2_48.optimize()"
   ]
  },
  {
   "cell_type": "code",
   "execution_count": 19,
   "metadata": {},
   "outputs": [
    {
     "name": "stdout",
     "output_type": "stream",
     "text": [
      "optimal Objective: \n",
      "8.0\n",
      "optimal Solution:\n",
      "x45 0.0\n",
      "x46 1.0\n",
      "x47 0.0\n",
      "x56 0.0\n",
      "x57 0.0\n",
      "x67 0.0\n",
      "x68 1.0\n",
      "x78 0.0\n"
     ]
    }
   ],
   "source": [
    "print(\"optimal Objective: \\n\" + str(Model_2_48.ObjVal))\n",
    "print(\"optimal Solution:\")\n",
    "allVars = Model_2_48.getVars()\n",
    "for curVar in allVars:\n",
    "    print(curVar.varName + \" \" + str(curVar.x))"
   ]
  },
  {
   "cell_type": "markdown",
   "metadata": {},
   "source": [
    "# Q2_26"
   ]
  },
  {
   "cell_type": "code",
   "execution_count": 20,
   "metadata": {},
   "outputs": [],
   "source": [
    "Model_2_26 = Model (\"Q2_26\")"
   ]
  },
  {
   "cell_type": "code",
   "execution_count": 21,
   "metadata": {},
   "outputs": [],
   "source": [
    "x23 = Model_2_26.addVar (vtype = GRB.CONTINUOUS, name = \"x23\")\n",
    "x25 = Model_2_26.addVar (vtype = GRB.CONTINUOUS, name = \"x25\")\n",
    "x24 = Model_2_26.addVar (vtype = GRB.CONTINUOUS, name = \"x24\")\n",
    "x35 = Model_2_26.addVar (vtype = GRB.CONTINUOUS, name = \"x35\")\n",
    "x34 = Model_2_26.addVar (vtype = GRB.CONTINUOUS, name = \"x34\")\n",
    "x36 = Model_2_26.addVar (vtype = GRB.CONTINUOUS, name = \"x36\")\n",
    "x45 = Model_2_26.addVar (vtype = GRB.CONTINUOUS, name = \"x45\")\n",
    "x46 = Model_2_26.addVar (vtype = GRB.CONTINUOUS, name = \"x46\")\n",
    "x56 = Model_2_26.addVar (vtype = GRB.CONTINUOUS, name = \"x56\")\n",
    "Model_2_26.update()"
   ]
  },
  {
   "cell_type": "code",
   "execution_count": 22,
   "metadata": {},
   "outputs": [],
   "source": [
    "objExpr = LinExpr()\n",
    "objExpr += 1*x23\n",
    "objExpr += 2*x25\n",
    "objExpr += 5*x24\n",
    "objExpr += 1*x35\n",
    "objExpr += 2*x34\n",
    "objExpr += 4*x36\n",
    "objExpr += 3*x45\n",
    "objExpr += 6*x46\n",
    "objExpr += 3*x56\n",
    "Model_2_26.setObjective(objExpr, GRB.MINIMIZE)"
   ]
  },
  {
   "cell_type": "code",
   "execution_count": 23,
   "metadata": {},
   "outputs": [],
   "source": [
    "secondConst = LinExpr()\n",
    "secondConst += x23\n",
    "secondConst += x25\n",
    "secondConst += x24\n",
    "Model_2_26.addConstr( lhs = secondConst, sense = GRB.EQUAL, rhs = 1, name = \"secondconstraint\")\n",
    "\n",
    "thirdConst = LinExpr()\n",
    "thirdConst += x34\n",
    "thirdConst += x35\n",
    "thirdConst += x36\n",
    "thirdConst -= x23\n",
    "Model_2_26.addConstr( lhs = thirdConst, sense = GRB.EQUAL, rhs = 0, name = \"thirdconstraint\")\n",
    "\n",
    "fourthConst = LinExpr()\n",
    "fourthConst += x45\n",
    "fourthConst += x46\n",
    "fourthConst -= x34\n",
    "fourthConst -= x24\n",
    "Model_2_26.addConstr( lhs = fourthConst, sense = GRB.EQUAL, rhs = 0, name = \"fourthconstraint\")\n",
    "\n",
    "fifthConst = LinExpr()\n",
    "fifthConst += x56\n",
    "fifthConst -= x25\n",
    "fifthConst -= x35\n",
    "fifthConst -= x45\n",
    "Model_2_26.addConstr( lhs = fifthConst, sense = GRB.EQUAL, rhs = 0, name = \"fifthconstraint\")\n",
    "\n",
    "sixthConst = LinExpr()\n",
    "sixthConst += x36\n",
    "sixthConst += x56\n",
    "sixthConst += x46\n",
    "Model_2_26.addConstr( lhs = sixthConst, sense = GRB.EQUAL, rhs = 1, name = \"sixthconstraint\")\n",
    "\n",
    "Model_2_26.update()\n",
    "Model_2_26.write ( filename = \"Q2_4Out.lp\")"
   ]
  },
  {
   "cell_type": "code",
   "execution_count": 24,
   "metadata": {},
   "outputs": [
    {
     "name": "stdout",
     "output_type": "stream",
     "text": [
      "Optimize a model with 5 rows, 9 columns and 18 nonzeros\n",
      "Coefficient statistics:\n",
      "  Matrix range     [1e+00, 1e+00]\n",
      "  Objective range  [1e+00, 6e+00]\n",
      "  Bounds range     [0e+00, 0e+00]\n",
      "  RHS range        [1e+00, 1e+00]\n",
      "Presolve removed 2 rows and 6 columns\n",
      "Presolve time: 0.01s\n",
      "Presolved: 3 rows, 3 columns, 6 nonzeros\n",
      "\n",
      "Iteration    Objective       Primal Inf.    Dual Inf.      Time\n",
      "       0    5.0000000e+00   0.000000e+00   0.000000e+00      0s\n",
      "       0    5.0000000e+00   0.000000e+00   0.000000e+00      0s\n",
      "\n",
      "Solved in 0 iterations and 0.02 seconds\n",
      "Optimal objective  5.000000000e+00\n"
     ]
    }
   ],
   "source": [
    "Model_2_26.optimize()"
   ]
  },
  {
   "cell_type": "code",
   "execution_count": 25,
   "metadata": {},
   "outputs": [
    {
     "name": "stdout",
     "output_type": "stream",
     "text": [
      "optimal Objective: \n",
      "5.0\n",
      "optimal Solution:\n",
      "x23 1.0\n",
      "x25 0.0\n",
      "x24 0.0\n",
      "x35 0.0\n",
      "x34 0.0\n",
      "x36 1.0\n",
      "x45 0.0\n",
      "x46 0.0\n",
      "x56 0.0\n"
     ]
    }
   ],
   "source": [
    "print(\"optimal Objective: \\n\" + str(Model_2_26.ObjVal))\n",
    "print(\"optimal Solution:\")\n",
    "allVars = Model_2_26.getVars()\n",
    "for curVar in allVars:\n",
    "    print(curVar.varName + \" \" + str(curVar.x))"
   ]
  },
  {
   "cell_type": "markdown",
   "metadata": {},
   "source": [
    "# Q3"
   ]
  },
  {
   "cell_type": "code",
   "execution_count": 26,
   "metadata": {},
   "outputs": [],
   "source": [
    "Model_3 = Model (\"Q3\")"
   ]
  },
  {
   "cell_type": "code",
   "execution_count": 27,
   "metadata": {},
   "outputs": [],
   "source": [
    "x13 = Model_3.addVar (vtype = GRB.CONTINUOUS, name = \"x13\", ub = 375)\n",
    "x14 = Model_3.addVar (vtype = GRB.CONTINUOUS, name = \"x14\", ub = 450)\n",
    "x23 = Model_3.addVar (vtype = GRB.CONTINUOUS, name = \"x23\", ub = 525)\n",
    "x24 = Model_3.addVar (vtype = GRB.CONTINUOUS, name = \"x24\", ub = 600)\n",
    "x35 = Model_3.addVar (vtype = GRB.CONTINUOUS, name = \"x35\", ub = 300)\n",
    "x36 = Model_3.addVar (vtype = GRB.CONTINUOUS, name = \"x36\", ub = 450)\n",
    "x37 = Model_3.addVar (vtype = GRB.CONTINUOUS, name = \"x37\", ub = 300)\n",
    "x45 = Model_3.addVar (vtype = GRB.CONTINUOUS, name = \"x45\", ub = 375)\n",
    "x46 = Model_3.addVar (vtype = GRB.CONTINUOUS, name = \"x46\", ub = 450)\n",
    "x47 = Model_3.addVar (vtype = GRB.CONTINUOUS, name = \"x47\", ub = 225)\n",
    "Model_3.update()"
   ]
  },
  {
   "cell_type": "code",
   "execution_count": 28,
   "metadata": {},
   "outputs": [],
   "source": [
    "objExpr = LinExpr()\n",
    "objExpr += 1175*x13\n",
    "objExpr += 1580*x14\n",
    "objExpr += 1430*x23\n",
    "objExpr += 1700*x24\n",
    "objExpr += 1370*x35\n",
    "objExpr += 1505*x36\n",
    "objExpr += 1490*x37\n",
    "objExpr += 1190*x45\n",
    "objExpr += 1210*x46\n",
    "objExpr += 1240*x47\n",
    "Model_3.setObjective(objExpr, GRB.MINIMIZE)"
   ]
  },
  {
   "cell_type": "code",
   "execution_count": 29,
   "metadata": {},
   "outputs": [],
   "source": [
    "firstConst = LinExpr()\n",
    "firstConst += x13\n",
    "firstConst += x14\n",
    "Model_3.addConstr( lhs = firstConst, sense = GRB.EQUAL, rhs = 600, name = \"firstconstraint\" )\n",
    "\n",
    "secondConst = LinExpr()\n",
    "secondConst += x23\n",
    "secondConst += x24\n",
    "Model_3.addConstr( lhs = secondConst, sense = GRB.EQUAL, rhs = 900, name = \"secondconstraint\")\n",
    "\n",
    "thirdConst = LinExpr()\n",
    "thirdConst += x35\n",
    "thirdConst += x45\n",
    "Model_3.addConstr( lhs = thirdConst, sense = GRB.EQUAL, rhs = 450, name = \"thirdconstraint\")\n",
    "\n",
    "fourthConst = LinExpr()\n",
    "fourthConst += x36\n",
    "fourthConst += x46\n",
    "Model_3.addConstr( lhs = fourthConst, sense = GRB.EQUAL, rhs = 600, name = \"fourthconstraint\")\n",
    "\n",
    "fifthConst = LinExpr()\n",
    "fifthConst += x37\n",
    "fifthConst += x47\n",
    "Model_3.addConstr( lhs = fifthConst, sense = GRB.EQUAL, rhs = 450, name = \"fifthconstraint\")\n",
    "\n",
    "sixthConst = LinExpr()\n",
    "sixthConst += x35\n",
    "sixthConst += x36\n",
    "sixthConst += x37\n",
    "sixthConst -= x13\n",
    "sixthConst -= x23\n",
    "Model_3.addConstr( lhs = sixthConst, sense = GRB.EQUAL, rhs = 0, name = \"sixthconstraint\")\n",
    "\n",
    "seventhConst = LinExpr()\n",
    "seventhConst += x45\n",
    "seventhConst += x46\n",
    "seventhConst += x47\n",
    "seventhConst -= x14\n",
    "seventhConst -= x24\n",
    "Model_3.addConstr( lhs = seventhConst, sense = GRB.EQUAL, rhs = 0, name = \"seventhconstraint\")\n",
    "\n",
    "Model_3.update()\n",
    "Model_3.write ( filename = \"Q3_Out.lp\")"
   ]
  },
  {
   "cell_type": "code",
   "execution_count": 30,
   "metadata": {},
   "outputs": [
    {
     "name": "stdout",
     "output_type": "stream",
     "text": [
      "Optimize a model with 7 rows, 10 columns and 20 nonzeros\n",
      "Coefficient statistics:\n",
      "  Matrix range     [1e+00, 1e+00]\n",
      "  Objective range  [1e+03, 2e+03]\n",
      "  Bounds range     [2e+02, 6e+02]\n",
      "  RHS range        [4e+02, 9e+02]\n",
      "Presolve removed 6 rows and 5 columns\n",
      "Presolve time: 0.01s\n",
      "Presolved: 1 rows, 5 columns, 5 nonzeros\n",
      "\n",
      "Iteration    Objective       Primal Inf.    Dual Inf.      Time\n",
      "       0    4.1178750e+06   5.625000e+01   0.000000e+00      0s\n",
      "       1    4.2176250e+06   0.000000e+00   0.000000e+00      0s\n",
      "\n",
      "Solved in 1 iterations and 0.02 seconds\n",
      "Optimal objective  4.217625000e+06\n"
     ]
    }
   ],
   "source": [
    "Model_3.optimize()"
   ]
  },
  {
   "cell_type": "code",
   "execution_count": 31,
   "metadata": {},
   "outputs": [
    {
     "name": "stdout",
     "output_type": "stream",
     "text": [
      "optimal Objective: \n",
      "4217625.0\n",
      "optimal Solution:\n",
      "x13 375.0\n",
      "x14 225.0\n",
      "x23 375.0\n",
      "x24 525.0\n",
      "x35 300.0\n",
      "x36 150.0\n",
      "x37 300.0\n",
      "x45 150.0\n",
      "x46 450.0\n",
      "x47 150.0\n"
     ]
    }
   ],
   "source": [
    "print(\"optimal Objective: \\n\" + str(Model_3.ObjVal))\n",
    "print(\"optimal Solution:\")\n",
    "allVars = Model_3.getVars()\n",
    "for curVar in allVars:\n",
    "    print(curVar.varName + \" \" + str(curVar.x))"
   ]
  },
  {
   "cell_type": "code",
   "execution_count": null,
   "metadata": {},
   "outputs": [],
   "source": []
  },
  {
   "cell_type": "code",
   "execution_count": null,
   "metadata": {},
   "outputs": [],
   "source": []
  }
 ],
 "metadata": {
  "kernelspec": {
   "display_name": "Python 3",
   "language": "python",
   "name": "python3"
  },
  "language_info": {
   "codemirror_mode": {
    "name": "ipython",
    "version": 3
   },
   "file_extension": ".py",
   "mimetype": "text/x-python",
   "name": "python",
   "nbconvert_exporter": "python",
   "pygments_lexer": "ipython3",
   "version": "3.7.3"
  }
 },
 "nbformat": 4,
 "nbformat_minor": 2
}
