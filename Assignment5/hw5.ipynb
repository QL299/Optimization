{
 "cells": [
  {
   "cell_type": "code",
   "execution_count": 1,
   "metadata": {},
   "outputs": [],
   "source": [
    "from gurobipy import *"
   ]
  },
  {
   "cell_type": "code",
   "execution_count": 16,
   "metadata": {},
   "outputs": [],
   "source": [
    "num_nodes = 8\n",
    "num_arcs = 16\n",
    "origin = 1\n",
    "destination = 8"
   ]
  },
  {
   "cell_type": "code",
   "execution_count": 29,
   "metadata": {},
   "outputs": [
    {
     "name": "stdout",
     "output_type": "stream",
     "text": [
      "1 2 1.0\n",
      "\n",
      "1 3 2.0\n",
      "\n",
      "2 3 1.0\n",
      "\n",
      "2 4 5.0\n",
      "\n",
      "2 5 2.0\n",
      "\n",
      "3 4 2.0\n",
      "\n",
      "3 5 1.0\n",
      "\n",
      "3 6 4.0\n",
      "\n",
      "4 5 3.0\n",
      "\n",
      "4 6 6.0\n",
      "\n",
      "4 7 8.0\n",
      "\n",
      "5 6 3.0\n",
      "\n",
      "5 7 7.0\n",
      "\n",
      "6 7 5.0\n",
      "\n",
      "6 8 2.0\n",
      "\n",
      "7 8 6.0\n"
     ]
    }
   ],
   "source": [
    "f = open(\"shortest_path_data.txt\", \"r\")\n",
    "f2=next(f)\n",
    "for lines in f:\n",
    "    print(lines)"
   ]
  },
  {
   "cell_type": "code",
   "execution_count": 35,
   "metadata": {},
   "outputs": [],
   "source": [
    "cost_12 = 1.0\n",
    "cost_13 = 2.0\n",
    "cost_23 = 1.0\n",
    "cost_24 = 5.0\n",
    "cost_25 = 2.0\n",
    "cost_34 = 2.0\n",
    "cost_35 = 1.0\n",
    "cost_36 = 4.0\n",
    "cost_45 = 3.0\n",
    "cost_46 = 6.0\n",
    "cost_47 = 8.0\n",
    "cost_56 = 3.0\n",
    "cost_57 = 7.0\n",
    "cost_67 = 5.0\n",
    "cost_68 = 2.0\n",
    "cost_78 = 6.0"
   ]
  },
  {
   "cell_type": "code",
   "execution_count": 37,
   "metadata": {},
   "outputs": [],
   "source": [
    "myModel = Model (\"Shortest_path_data\")\n",
    "x13 = myModel.addVar (vtype = GRB.CONTINUOUS, name = \"x13\")\n",
    "x12 = myModel.addVar (vtype = GRB.CONTINUOUS, name = \"x12\")\n",
    "x23 = myModel.addVar (vtype = GRB.CONTINUOUS, name = \"x23\")\n",
    "x25 = myModel.addVar (vtype = GRB.CONTINUOUS, name = \"x25\")\n",
    "x24 = myModel.addVar (vtype = GRB.CONTINUOUS, name = \"x24\")\n",
    "x35 = myModel.addVar (vtype = GRB.CONTINUOUS, name = \"x35\")\n",
    "x34 = myModel.addVar (vtype = GRB.CONTINUOUS, name = \"x34\")\n",
    "x36 = myModel.addVar (vtype = GRB.CONTINUOUS, name = \"x36\")\n",
    "x45 = myModel.addVar (vtype = GRB.CONTINUOUS, name = \"x45\")\n",
    "x46 = myModel.addVar (vtype = GRB.CONTINUOUS, name = \"x46\")\n",
    "x47 = myModel.addVar (vtype = GRB.CONTINUOUS, name = \"x47\")\n",
    "x56 = myModel.addVar (vtype = GRB.CONTINUOUS, name = \"x56\")\n",
    "x57 = myModel.addVar (vtype = GRB.CONTINUOUS, name = \"x57\")\n",
    "x67 = myModel.addVar (vtype = GRB.CONTINUOUS, name = \"x67\")\n",
    "x68 = myModel.addVar (vtype = GRB.CONTINUOUS, name = \"x68\")\n",
    "x78 = myModel.addVar (vtype = GRB.CONTINUOUS, name = \"x78\")\n",
    "myModel.update()"
   ]
  },
  {
   "cell_type": "code",
   "execution_count": 38,
   "metadata": {},
   "outputs": [],
   "source": [
    "objExpr = LinExpr()\n",
    "objExpr += cost_13*x13\n",
    "objExpr += cost_12*x12\n",
    "objExpr += cost_23*x23\n",
    "objExpr += cost_25*x25\n",
    "objExpr += cost_24*x24\n",
    "objExpr += cost_35*x35\n",
    "objExpr += cost_34*x34\n",
    "objExpr += cost_36*x36\n",
    "objExpr += cost_45*x45\n",
    "objExpr += cost_46*x46\n",
    "objExpr += cost_47*x47\n",
    "objExpr += cost_56*x56\n",
    "objExpr += cost_57*x57\n",
    "objExpr += cost_67*x67\n",
    "objExpr += cost_68*x68\n",
    "objExpr += cost_78*x78\n",
    "myModel.setObjective(objExpr, GRB.MINIMIZE)"
   ]
  },
  {
   "cell_type": "code",
   "execution_count": 39,
   "metadata": {},
   "outputs": [],
   "source": [
    "firstConst = LinExpr()\n",
    "firstConst += x13\n",
    "firstConst += x12\n",
    "myModel.addConstr( lhs = firstConst, sense = GRB.EQUAL, rhs = 1, name = \"firstconstraint\" )\n",
    "\n",
    "secondConst = LinExpr()\n",
    "secondConst += x23\n",
    "secondConst += x25\n",
    "secondConst += x24\n",
    "secondConst -= x12\n",
    "myModel.addConstr( lhs = secondConst, sense = GRB.EQUAL, rhs = 0, name = \"secondconstraint\")\n",
    "\n",
    "thirdConst = LinExpr()\n",
    "thirdConst += x34\n",
    "thirdConst += x35\n",
    "thirdConst += x36\n",
    "thirdConst -= x13\n",
    "thirdConst -= x23\n",
    "myModel.addConstr( lhs = thirdConst, sense = GRB.EQUAL, rhs = 0, name = \"thirdconstraint\")\n",
    "\n",
    "fourthConst = LinExpr()\n",
    "fourthConst += x45\n",
    "fourthConst += x46\n",
    "fourthConst += x47\n",
    "fourthConst -= x34\n",
    "fourthConst -= x24\n",
    "myModel.addConstr( lhs = fourthConst, sense = GRB.EQUAL, rhs = 0, name = \"fourthconstraint\")\n",
    "\n",
    "fifthConst = LinExpr()\n",
    "fifthConst += x56\n",
    "fifthConst += x57\n",
    "fifthConst -= x25\n",
    "fifthConst -= x35\n",
    "fifthConst -= x45\n",
    "myModel.addConstr( lhs = fifthConst, sense = GRB.EQUAL, rhs = 0, name = \"fifthconstraint\")\n",
    "\n",
    "sixthConst = LinExpr()\n",
    "sixthConst += x68\n",
    "sixthConst += x67\n",
    "sixthConst -= x36\n",
    "sixthConst -= x56\n",
    "sixthConst -= x46\n",
    "myModel.addConstr( lhs = sixthConst, sense = GRB.EQUAL, rhs = 0, name = \"sixthconstraint\")\n",
    "\n",
    "seventhConst = LinExpr()\n",
    "seventhConst += x78\n",
    "seventhConst -= x67\n",
    "seventhConst -= x57\n",
    "seventhConst -= x47\n",
    "myModel.addConstr( lhs = seventhConst, sense = GRB.EQUAL, rhs = 0, name = \"seventhconstraint\")\n",
    "\n",
    "eighthConst = LinExpr()\n",
    "eighthConst += x78\n",
    "eighthConst += x68\n",
    "myModel.addConstr( lhs = eighthConst, sense = GRB.EQUAL, rhs = 1, name = \"eighthconstraint\")\n",
    "\n",
    "myModel.update()\n",
    "myModel.write ( filename = \"Shortest_path_data.lp\")"
   ]
  },
  {
   "cell_type": "code",
   "execution_count": 40,
   "metadata": {},
   "outputs": [
    {
     "name": "stdout",
     "output_type": "stream",
     "text": [
      "Optimize a model with 8 rows, 16 columns and 32 nonzeros\n",
      "Coefficient statistics:\n",
      "  Matrix range     [1e+00, 1e+00]\n",
      "  Objective range  [1e+00, 8e+00]\n",
      "  Bounds range     [0e+00, 0e+00]\n",
      "  RHS range        [1e+00, 1e+00]\n",
      "Presolve removed 2 rows and 4 columns\n",
      "Presolve time: 0.03s\n",
      "Presolved: 6 rows, 12 columns, 24 nonzeros\n",
      "\n",
      "Iteration    Objective       Primal Inf.    Dual Inf.      Time\n",
      "       0    3.9920000e+00   1.503000e+00   0.000000e+00      0s\n",
      "       3    8.0000000e+00   0.000000e+00   0.000000e+00      0s\n",
      "\n",
      "Solved in 3 iterations and 0.05 seconds\n",
      "Optimal objective  8.000000000e+00\n"
     ]
    }
   ],
   "source": [
    "myModel.optimize()"
   ]
  },
  {
   "cell_type": "code",
   "execution_count": 41,
   "metadata": {},
   "outputs": [
    {
     "name": "stdout",
     "output_type": "stream",
     "text": [
      "optimal Objective: \n",
      "8.0\n",
      "optimal Solution:\n",
      "x13 0.0\n",
      "x12 1.0\n",
      "x23 1.0\n",
      "x25 0.0\n",
      "x24 0.0\n",
      "x35 1.0\n",
      "x34 0.0\n",
      "x36 0.0\n",
      "x45 0.0\n",
      "x46 0.0\n",
      "x47 0.0\n",
      "x56 1.0\n",
      "x57 0.0\n",
      "x67 0.0\n",
      "x68 1.0\n",
      "x78 0.0\n"
     ]
    }
   ],
   "source": [
    "print(\"optimal Objective: \\n\" + str(myModel.ObjVal))\n",
    "print(\"optimal Solution:\")\n",
    "allVars = myModel.getVars()\n",
    "for curVar in allVars:\n",
    "    print(curVar.varName + \" \" + str(curVar.x))"
   ]
  },
  {
   "cell_type": "code",
   "execution_count": null,
   "metadata": {},
   "outputs": [],
   "source": []
  }
 ],
 "metadata": {
  "kernelspec": {
   "display_name": "Python 3",
   "language": "python",
   "name": "python3"
  },
  "language_info": {
   "codemirror_mode": {
    "name": "ipython",
    "version": 3
   },
   "file_extension": ".py",
   "mimetype": "text/x-python",
   "name": "python",
   "nbconvert_exporter": "python",
   "pygments_lexer": "ipython3",
   "version": "3.7.3"
  }
 },
 "nbformat": 4,
 "nbformat_minor": 2
}
