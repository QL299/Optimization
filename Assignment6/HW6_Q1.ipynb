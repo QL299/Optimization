{
 "cells": [
  {
   "cell_type": "code",
   "execution_count": 15,
   "metadata": {},
   "outputs": [],
   "source": [
    "from gurobipy import *"
   ]
  },
  {
   "cell_type": "markdown",
   "metadata": {},
   "source": [
    "# Q1"
   ]
  },
  {
   "cell_type": "code",
   "execution_count": 16,
   "metadata": {},
   "outputs": [
    {
     "name": "stdout",
     "output_type": "stream",
     "text": [
      "[[0, 1.0, 2.0, 0, 0, 0, 0, 0], [0, 0, 1.0, 5.0, 2.0, 0, 0, 0], [0, 0, 0, 2.0, 1.0, 4.0, 0, 0], [0, 0, 0, 0, 3.0, 6.0, 8.0, 0], [0, 0, 0, 0, 0, 3.0, 7.0, 0], [0, 0, 0, 0, 0, 0, 5.0, 2.0], [0, 0, 0, 0, 0, 0, 0, 6.0], [0, 0, 0, 0, 0, 0, 0, 0]]\n"
     ]
    }
   ],
   "source": [
    "f = open(\"shortest_path_data-1.txt\", \"r\")\n",
    "lines = f.readlines()[1:]\n",
    "myModel = Model(\"Shortest_path\")\n",
    "cost = [[0 for i in range (8)] for j in range (8)]\n",
    "myVars = [[0 for i in range (8)] for j in range (8)]\n",
    "for i in lines:\n",
    "    initial = i.split()\n",
    "    origin = int (initial[0])\n",
    "    destination = int (initial[1])\n",
    "    cost [origin - 1][destination - 1] = float (initial[2])\n",
    "print (cost)"
   ]
  },
  {
   "cell_type": "code",
   "execution_count": 17,
   "metadata": {},
   "outputs": [],
   "source": [
    "for i in range(8):\n",
    "    for j in range(8):\n",
    "        curVar = myModel.addVar(vtype = GRB.CONTINUOUS, name = \"X\" + str(i) + str(j))\n",
    "        myVars[i][j] = curVar\n",
    "myModel.update()"
   ]
  },
  {
   "cell_type": "code",
   "execution_count": 18,
   "metadata": {},
   "outputs": [
    {
     "name": "stdout",
     "output_type": "stream",
     "text": [
      "<gurobi.LinExpr: 0.0 X00 + X01 + 2.0 X02 + 0.0 X03 + 0.0 X04 + 0.0 X05 + 0.0 X06 + 0.0 X07 + 0.0 X10 + 0.0 X11 + X12 + 5.0 X13 + 2.0 X14 + 0.0 X15 + 0.0 X16 + 0.0 X17 + 0.0 X20 + 0.0 X21 + 0.0 X22 + 2.0 X23 + X24 + 4.0 X25 + 0.0 X26 + 0.0 X27 + 0.0 X30 + 0.0 X31 + 0.0 X32 + 0.0 X33 + 3.0 X34 + 6.0 X35 + 8.0 X36 + 0.0 X37 + 0.0 X40 + 0.0 X41 + 0.0 X42 + 0.0 X43 + 0.0 X44 + 3.0 X45 + 7.0 X46 + 0.0 X47 + 0.0 X50 + 0.0 X51 + 0.0 X52 + 0.0 X53 + 0.0 X54 + 0.0 X55 + 5.0 X56 + 2.0 X57 + 0.0 X60 + 0.0 X61 + 0.0 X62 + 0.0 X63 + 0.0 X64 + 0.0 X65 + 0.0 X66 + 6.0 X67 + 0.0 X70 + 0.0 X71 + 0.0 X72 + 0.0 X73 + 0.0 X74 + 0.0 X75 + 0.0 X76 + 0.0 X77>\n"
     ]
    }
   ],
   "source": [
    "objExpr = LinExpr()\n",
    "for i in range(8):\n",
    "    for j in range(8):\n",
    "        curVar = myVars[i][j]\n",
    "        objExpr += cost[i][j] * curVar\n",
    "        \n",
    "myModel.setObjective(objExpr, GRB.MINIMIZE)\n",
    "\n",
    "print(objExpr)"
   ]
  },
  {
   "cell_type": "code",
   "execution_count": 19,
   "metadata": {},
   "outputs": [
    {
     "data": {
      "text/plain": [
       "<bound method Model.update of <gurobi.Model Continuous instance Shortest_path: 0 constrs, 64 vars, Parameter changes: LogFile=gurobi.log, CSIdleTimeout=1800>>"
      ]
     },
     "execution_count": 19,
     "metadata": {},
     "output_type": "execute_result"
    }
   ],
   "source": [
    "constExpr = LinExpr()\n",
    "for j in range(8):\n",
    "    if cost[0][j] != 0:\n",
    "        constExpr += 1 * myVars[0][j]\n",
    "myModel.addConstr(lhs = constExpr, sense = GRB.EQUAL, rhs = 1)\n",
    "\n",
    "constExpr = LinExpr()\n",
    "for i in range(8):\n",
    "    if cost[i][7] != 0:\n",
    "        constExpr += 1 * myVars[i][7]\n",
    "myModel.addConstr(lhs = constExpr, sense = GRB.EQUAL, rhs = 1)\n",
    "\n",
    "for i in range(1,7):\n",
    "    constExpr = LinExpr()\n",
    "    for j in range(8):\n",
    "        if cost[i][j] != 0:\n",
    "            constExpr += 1 * myVars[i][j]\n",
    "        if cost[j][i] != 0:\n",
    "            constExpr -= 1 * myVars[j][i]\n",
    "    myModel.addConstr (lhs = constExpr, sense = GRB.EQUAL, rhs = 0)\n",
    "    \n",
    "myModel.update"
   ]
  },
  {
   "cell_type": "code",
   "execution_count": 20,
   "metadata": {},
   "outputs": [
    {
     "name": "stdout",
     "output_type": "stream",
     "text": [
      "Optimize a model with 8 rows, 64 columns and 32 nonzeros\n",
      "Coefficient statistics:\n",
      "  Matrix range     [1e+00, 1e+00]\n",
      "  Objective range  [1e+00, 8e+00]\n",
      "  Bounds range     [0e+00, 0e+00]\n",
      "  RHS range        [1e+00, 1e+00]\n",
      "Presolve removed 2 rows and 52 columns\n",
      "Presolve time: 0.01s\n",
      "Presolved: 6 rows, 12 columns, 24 nonzeros\n",
      "\n",
      "Iteration    Objective       Primal Inf.    Dual Inf.      Time\n",
      "       0    3.9920000e+00   1.503000e+00   0.000000e+00      0s\n",
      "       3    8.0000000e+00   0.000000e+00   0.000000e+00      0s\n",
      "\n",
      "Solved in 3 iterations and 0.02 seconds\n",
      "Optimal objective  8.000000000e+00\n",
      "Optimal Objective: \n",
      "8.0\n",
      "Optimal Solution:\n",
      "X00 0.0\n",
      "X01 1.0\n",
      "X02 0.0\n",
      "X03 0.0\n",
      "X04 0.0\n",
      "X05 0.0\n",
      "X06 0.0\n",
      "X07 0.0\n",
      "X10 0.0\n",
      "X11 0.0\n",
      "X12 1.0\n",
      "X13 0.0\n",
      "X14 0.0\n",
      "X15 0.0\n",
      "X16 0.0\n",
      "X17 0.0\n",
      "X20 0.0\n",
      "X21 0.0\n",
      "X22 0.0\n",
      "X23 0.0\n",
      "X24 1.0\n",
      "X25 0.0\n",
      "X26 0.0\n",
      "X27 0.0\n",
      "X30 0.0\n",
      "X31 0.0\n",
      "X32 0.0\n",
      "X33 0.0\n",
      "X34 0.0\n",
      "X35 0.0\n",
      "X36 0.0\n",
      "X37 0.0\n",
      "X40 0.0\n",
      "X41 0.0\n",
      "X42 0.0\n",
      "X43 0.0\n",
      "X44 0.0\n",
      "X45 1.0\n",
      "X46 0.0\n",
      "X47 0.0\n",
      "X50 0.0\n",
      "X51 0.0\n",
      "X52 0.0\n",
      "X53 0.0\n",
      "X54 0.0\n",
      "X55 0.0\n",
      "X56 0.0\n",
      "X57 1.0\n",
      "X60 0.0\n",
      "X61 0.0\n",
      "X62 0.0\n",
      "X63 0.0\n",
      "X64 0.0\n",
      "X65 0.0\n",
      "X66 0.0\n",
      "X67 0.0\n",
      "X70 0.0\n",
      "X71 0.0\n",
      "X72 0.0\n",
      "X73 0.0\n",
      "X74 0.0\n",
      "X75 0.0\n",
      "X76 0.0\n",
      "X77 0.0\n"
     ]
    }
   ],
   "source": [
    "myModel.write(filename = \"Shortest_path.lp\")\n",
    "myModel.optimize()\n",
    "print(\"Optimal Objective: \\n\" + str(myModel.ObjVal))\n",
    "print(\"Optimal Solution:\")\n",
    "allVars = myModel.getVars()\n",
    "for curVar in allVars:\n",
    "    print(curVar.varName + \" \" + str(curVar.x))"
   ]
  },
  {
   "cell_type": "code",
   "execution_count": null,
   "metadata": {},
   "outputs": [],
   "source": []
  }
 ],
 "metadata": {
  "kernelspec": {
   "display_name": "Python 3",
   "language": "python",
   "name": "python3"
  },
  "language_info": {
   "codemirror_mode": {
    "name": "ipython",
    "version": 3
   },
   "file_extension": ".py",
   "mimetype": "text/x-python",
   "name": "python",
   "nbconvert_exporter": "python",
   "pygments_lexer": "ipython3",
   "version": "3.7.3"
  }
 },
 "nbformat": 4,
 "nbformat_minor": 2
}
