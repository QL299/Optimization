{
 "cells": [
  {
   "cell_type": "code",
   "execution_count": 397,
   "metadata": {},
   "outputs": [],
   "source": [
    "import numpy as np\n",
    "import math\n",
    "import matplotlib.pyplot as plt"
   ]
  },
  {
   "cell_type": "markdown",
   "metadata": {},
   "source": [
    "State_space: the inventories number of the shoe "
   ]
  },
  {
   "cell_type": "markdown",
   "metadata": {},
   "source": [
    "# Markov"
   ]
  },
  {
   "cell_type": "code",
   "execution_count": 375,
   "metadata": {},
   "outputs": [],
   "source": [
    "I = 2200\n",
    "c = 220\n",
    "N = int(I/c) + 1\n",
    "\n",
    "beta = 0.97 #discount factor"
   ]
  },
  {
   "cell_type": "code",
   "execution_count": 405,
   "metadata": {},
   "outputs": [],
   "source": [
    "def create_matrix(total_states,p):\n",
    "    markov_chain = np.zeros((total_states,total_states))\n",
    "    for i in range(total_states - 1):\n",
    "        markov_chain[i][i+1] = p\n",
    "        markov_chain[i][i] = 1 - p\n",
    "    markov_chain[total_states - 1][total_states - 1] = 1\n",
    "    return markov_chain\n",
    "\n",
    "def mkov_chain_simu(mkov,start,iteration = 100):\n",
    "    result = []\n",
    "    decision = []\n",
    "    states_number = len(mkov) - 1\n",
    "    x_i = start #suppose state 1 is 0th row\n",
    "    i = 0\n",
    "    result.append(states_number - x_i)\n",
    "    while(i < iteration):\n",
    "        new_state = np.random.choice(np.arange(len(mkov)),p = mkov[x_i])\n",
    "        if new_state == x_i:\n",
    "            decision.append(0)\n",
    "        else:\n",
    "            decision.append(1)\n",
    "        x_i = new_state\n",
    "        result.append(states_number-x_i)\n",
    "        i += 1\n",
    "    return result,decision"
   ]
  },
  {
   "cell_type": "code",
   "execution_count": 377,
   "metadata": {},
   "outputs": [],
   "source": [
    "#analytically solve initial model"
   ]
  },
  {
   "cell_type": "code",
   "execution_count": 457,
   "metadata": {},
   "outputs": [],
   "source": [
    "def exponential(lam,x):\n",
    "    return lam*math.e**(-lam*x)\n",
    "\n",
    "def analytical_solution(price,N,beta):\n",
    "    p = exponential(1,(price - c)/100)\n",
    "    R = [p*price]*(N-1)\n",
    "    R.append(0)\n",
    "    mkov = create_matrix(N,p)\n",
    "    I = np.identity(N)\n",
    "    V = np.linalg.inv(I - beta*mkov) @ R\n",
    "    return V\n",
    "\n",
    "def mkov_chain_simu_probchange(price,states_number,prob_change,iteration = 100):\n",
    "    prob_initial = exponential(1,(price - c)/100)\n",
    "    result = []\n",
    "    decision = []\n",
    "    mkov = create_matrix(states_number,prob_initial)\n",
    "    p = prob_initial\n",
    "    x_i = 0 #suppose state 1 is 0th row\n",
    "    i = 0\n",
    "    result.append(states_number - 1 - x_i)\n",
    "    while(i < iteration):\n",
    "        pr_change = np.random.choice([1.01,0.99,1],p = prob_change)\n",
    "        p = min(pr_change*p,1)\n",
    "        \n",
    "        mkov = create_matrix(states_number,p)\n",
    "        new_state = np.random.choice(np.arange(len(mkov)),p = mkov[x_i])\n",
    "        \n",
    "        if new_state == x_i:\n",
    "            decision.append(0)\n",
    "        else:\n",
    "            decision.append(1)\n",
    "        x_i = new_state\n",
    "        result.append(states_number- 1 - x_i)\n",
    "        i += 1\n",
    "    return result,decision\n"
   ]
  },
  {
   "cell_type": "code",
   "execution_count": 379,
   "metadata": {},
   "outputs": [],
   "source": [
    "result = []\n",
    "for price in range(220,441):\n",
    "    V = analytical_solution(price,N,beta)\n",
    "    V = V - np.arange(10,-1,-1)*220\n",
    "    result.append(V)"
   ]
  },
  {
   "cell_type": "code",
   "execution_count": 380,
   "metadata": {},
   "outputs": [],
   "source": [
    "x,y = np.where(np.array(result) == np.amax(np.array(result)))"
   ]
  },
  {
   "cell_type": "code",
   "execution_count": 394,
   "metadata": {},
   "outputs": [
    {
     "data": {
      "text/plain": [
       "(365, 4)"
      ]
     },
     "execution_count": 394,
     "metadata": {},
     "output_type": "execute_result"
    }
   ],
   "source": [
    "(x[0]+220,N-1-y[0])"
   ]
  },
  {
   "cell_type": "code",
   "execution_count": 395,
   "metadata": {},
   "outputs": [
    {
     "data": {
      "text/plain": [
       "234.9736910532547"
      ]
     },
     "execution_count": 395,
     "metadata": {},
     "output_type": "execute_result"
    }
   ],
   "source": [
    "np.amax(np.array(result))"
   ]
  },
  {
   "cell_type": "code",
   "execution_count": 403,
   "metadata": {},
   "outputs": [
    {
     "data": {
      "text/plain": [
       "Text(0.5, 1.0, 'price vs profit')"
      ]
     },
     "execution_count": 403,
     "metadata": {},
     "output_type": "execute_result"
    },
    {
     "data": {
      "image/png": "[encoded data removed]",
      "text/plain": [
       "<Figure size 432x288 with 1 Axes>"
      ]
     },
     "metadata": {
      "needs_background": "light"
     },
     "output_type": "display_data"
    }
   ],
   "source": [
    "best = []\n",
    "for i in range(len(result)):\n",
    "    best.append( np.amax(np.array(result[i])))\n",
    "    \n",
    "plt.plot(np.arange(220,441),best)\n",
    "plt.xlabel('price')\n",
    "plt.ylabel('profit')\n",
    "plt.title('price vs profit')\n"
   ]
  },
  {
   "cell_type": "code",
   "execution_count": 404,
   "metadata": {},
   "outputs": [
    {
     "data": {
      "text/plain": [
       "Text(0.5, 1.0, 'inventory vs profit, price = 365')"
      ]
     },
     "execution_count": 404,
     "metadata": {},
     "output_type": "execute_result"
    },
    {
     "data": {
      "image/png": "[encoded data removed]",
      "text/plain": [
       "<Figure size 432x288 with 1 Axes>"
      ]
     },
     "metadata": {
      "needs_background": "light"
     },
     "output_type": "display_data"
    }
   ],
   "source": [
    "plt.plot(np.arange(10,-1,-1),result[365-220])\n",
    "plt.xlabel('inventory')\n",
    "plt.ylabel('profit')\n",
    "plt.title('inventory vs profit, price = 365')\n"
   ]
  },
  {
   "cell_type": "markdown",
   "metadata": {},
   "source": [
    "# Non-Markov"
   ]
  },
  {
   "cell_type": "code",
   "execution_count": 430,
   "metadata": {},
   "outputs": [],
   "source": [
    "prob_change = [0.5,0.1,0.4]\n"
   ]
  },
  {
   "cell_type": "code",
   "execution_count": 485,
   "metadata": {},
   "outputs": [],
   "source": [
    "def simulation_average(price,inventory,beta,iteration = 100):\n",
    "    prob_change = [0.5,0.1,0.4]\n",
    "    profits = []\n",
    "    for m in range(iteration):\n",
    "        rt,decision = mkov_chain_simu_probchange(price,inventory,prob_change)\n",
    "        payback = 0\n",
    "        for i in range(len(decision)):\n",
    "            payback += (beta**i)*price*decision[i]\n",
    "        profits.append(payback)\n",
    "    \n",
    "    return sum(profits)/len(profits) - (inventory-1)*220"
   ]
  },
  {
   "cell_type": "code",
   "execution_count": 486,
   "metadata": {},
   "outputs": [
    {
     "data": {
      "text/plain": [
       "248.00303154801452"
      ]
     },
     "execution_count": 486,
     "metadata": {},
     "output_type": "execute_result"
    }
   ],
   "source": [
    "simulation_average(365,4,beta)"
   ]
  },
  {
   "cell_type": "code",
   "execution_count": 487,
   "metadata": {},
   "outputs": [],
   "source": [
    "from tqdm import tqdm"
   ]
  },
  {
   "cell_type": "code",
   "execution_count": 488,
   "metadata": {},
   "outputs": [],
   "source": [
    "non_mar_result = np.zeros((23,11))\n",
    "price = 365\n",
    "for price in range(0,23):\n",
    "    for inventory in range(11):\n",
    "        non_mar_result[price][inventory] = simulation_average((22+price)*10,inventory+1,beta)\n"
   ]
  },
  {
   "cell_type": "code",
   "execution_count": 490,
   "metadata": {},
   "outputs": [],
   "source": [
    "x,y = np.where(non_mar_result == np.amax(non_mar_result))"
   ]
  },
  {
   "cell_type": "code",
   "execution_count": 492,
   "metadata": {},
   "outputs": [
    {
     "data": {
      "text/plain": [
       "(390, 4)"
      ]
     },
     "execution_count": 492,
     "metadata": {},
     "output_type": "execute_result"
    }
   ],
   "source": [
    "((x[0]+22)*10, y[0])"
   ]
  },
  {
   "cell_type": "code",
   "execution_count": 493,
   "metadata": {},
   "outputs": [
    {
     "data": {
      "text/plain": [
       "263.60104252045926"
      ]
     },
     "execution_count": 493,
     "metadata": {},
     "output_type": "execute_result"
    }
   ],
   "source": [
    "np.amax(non_mar_result)"
   ]
  },
  {
   "cell_type": "code",
   "execution_count": 495,
   "metadata": {},
   "outputs": [
    {
     "data": {
      "text/plain": [
       "Text(0.5, 1.0, 'price vs profit')"
      ]
     },
     "execution_count": 495,
     "metadata": {},
     "output_type": "execute_result"
    },
    {
     "data": {
      "image/png": "[encoded data removed]",
      "text/plain": [
       "<Figure size 432x288 with 1 Axes>"
      ]
     },
     "metadata": {
      "needs_background": "light"
     },
     "output_type": "display_data"
    }
   ],
   "source": [
    "best = []\n",
    "for i in range(len(non_mar_result)):\n",
    "    best.append( np.amax(np.array(non_mar_result[i])))\n",
    "    \n",
    "plt.plot((np.arange(0,23)+22)*10,best)\n",
    "plt.xlabel('price')\n",
    "plt.ylabel('profit')\n",
    "plt.title('price vs profit')\n",
    "\n"
   ]
  },
  {
   "cell_type": "code",
   "execution_count": 497,
   "metadata": {},
   "outputs": [
    {
     "data": {
      "text/plain": [
       "Text(0.5, 1.0, 'inventory vs profit, price = 390')"
      ]
     },
     "execution_count": 497,
     "metadata": {},
     "output_type": "execute_result"
    },
    {
     "data": {
      "image/png": "[encoded data removed]",
      "text/plain": [
       "<Figure size 432x288 with 1 Axes>"
      ]
     },
     "metadata": {
      "needs_background": "light"
     },
     "output_type": "display_data"
    }
   ],
   "source": [
    "plt.plot(np.arange(11),non_mar_result[x[0]])\n",
    "plt.xlabel('inventory')\n",
    "plt.ylabel('profit')\n",
    "plt.title('inventory vs profit, price = 390')\n",
    "\n"
   ]
  },
  {
   "cell_type": "code",
   "execution_count": null,
   "metadata": {},
   "outputs": [],
   "source": []
  },
  {
   "cell_type": "code",
   "execution_count": null,
   "metadata": {},
   "outputs": [],
   "source": []
  }
 ],
 "metadata": {
  "kernelspec": {
   "display_name": "Python 3",
   "language": "python",
   "name": "python3"
  },
  "language_info": {
   "codemirror_mode": {
    "name": "ipython",
    "version": 3
   },
   "file_extension": ".py",
   "mimetype": "text/x-python",
   "name": "python",
   "nbconvert_exporter": "python",
   "pygments_lexer": "ipython3",
   "version": "3.7.3"
  }
 },
 "nbformat": 4,
 "nbformat_minor": 2
}
