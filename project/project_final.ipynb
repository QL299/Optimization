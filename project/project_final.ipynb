{
 "cells": [
  {
   "cell_type": "code",
   "execution_count": 1,
   "metadata": {},
   "outputs": [],
   "source": [
    "import numpy as np\n",
    "from gurobipy import *"
   ]
  },
  {
   "cell_type": "code",
   "execution_count": 2,
   "metadata": {},
   "outputs": [],
   "source": [
    "demand = [\n",
    "    \n",
    "[\n",
    "    [0,0,0,0,0],[100,200,100,400,300],[50,50,50,50,50]\n",
    "],\n",
    "\n",
    "[\n",
    "    [25,25,25,25,25],[0,0,0,0,0],[25,25,25,25,25]\n",
    "],\n",
    "\n",
    "[\n",
    "    [40,40,40,40,40],[400,200,300,200,400],[0,0,0,0,0]\n",
    "],  \n",
    "\n",
    "]\n",
    "\n",
    "c_dict = {'A':0, 'B':1, 'C':2}\n",
    "i_dict = {0:'A', 1:'B',  2:'C'}\n",
    "\n",
    "\n",
    "\n",
    "repostion_cost = [\n",
    "    [\n",
    "        0,7,3\n",
    "    ],\n",
    "    [\n",
    "        7,0,6\n",
    "    ],\n",
    "    [\n",
    "        3,6,0\n",
    "    ]\n",
    "]\n",
    "\n",
    "c_hold = 10\n",
    "total_fleet = 1200"
   ]
  },
  {
   "cell_type": "code",
   "execution_count": 27,
   "metadata": {},
   "outputs": [],
   "source": [
    "model = Model(\"Final_Project_v1\")\n",
    "x = [[[0]*5 for i in range(3)] for j in range (3)] #number of cargo deliver at day t\n",
    "y = [[[0]*5 for i in range(3)] for j in range (3)] #number of plane repositioning at day t\n",
    "z = [[[0]*5 for i in range(3)] for j in range (3)] #number of cargo holding at day t\n",
    "\n",
    "\n"
   ]
  },
  {
   "cell_type": "code",
   "execution_count": 28,
   "metadata": {},
   "outputs": [],
   "source": [
    "#OBJ\n",
    "objExpr = LinExpr()\n",
    "for T in range(5):\n",
    "    for i in range(3):\n",
    "        for j in range(3):\n",
    "            repo_fleet = model.addVar(vtype = GRB.INTEGER, \n",
    "                                         name = 'y_'+str(i_dict[i])+'_'+str(i_dict[j])+'_day_'+str(T))\n",
    "            y[i][j][T] = repo_fleet\n",
    "            objExpr += repostion_cost[i][j]*repo_fleet\n",
    "            if i != j:\n",
    "                hold_var = model.addVar(vtype = GRB.INTEGER, \n",
    "                                            name = 'z_'+str(i_dict[i])+'_'+str(i_dict[j]+'_day_'+str(T)))\n",
    "                z[i][j][T] = hold_var\n",
    "                objExpr += c_hold*hold_var\n",
    "                deliver_cargo = model.addVar(vtype = GRB.INTEGER, \n",
    "                                            name = 'x_'+str(i_dict[i])+\n",
    "                                              '_'+str(i_dict[j]+'_day_'+str(T)))\n",
    "                x[i][j][T] = deliver_cargo\n",
    "model.update()\n",
    "model.setObjective(objExpr,GRB.MINIMIZE)"
   ]
  },
  {
   "cell_type": "code",
   "execution_count": 29,
   "metadata": {},
   "outputs": [],
   "source": [
    "#constrain on aircraft flow\n",
    "for T in range(5):\n",
    "    for i in range(3):\n",
    "        constExpr_l = LinExpr()\n",
    "        constExpr_r = LinExpr()\n",
    "        for j in range(3):\n",
    "            prev_day = 4 if T == 0 else (T - 1)\n",
    "            constExpr_l += y[j][i][prev_day] + x[j][i][prev_day]\n",
    "            constExpr_r += y[i][j][T] + x[i][j][T]\n",
    "        model.addConstr(lhs = constExpr_l, sense = GRB.EQUAL, rhs = constExpr_r,name = 'aircraft'+str(T)+str(i_dict[i]))\n",
    "model.update()\n",
    "    \n",
    "        "
   ]
  },
  {
   "cell_type": "code",
   "execution_count": 30,
   "metadata": {},
   "outputs": [],
   "source": [
    "#constraints on cargos\n",
    "for T in range(5):\n",
    "    for i in range(3):\n",
    "        for j in range(3):\n",
    "            if i != j:\n",
    "                prev_day = 4 if T == 0 else (T - 1)\n",
    "                constExpr_l = LinExpr()\n",
    "                constExpr_r = LinExpr()\n",
    "                constExpr_l += demand[i][j][T] + z[i][j][prev_day]\n",
    "                constExpr_r += x[i][j][T] + z[i][j][T]\n",
    "                model.addConstr(lhs = constExpr_l, sense = GRB.EQUAL, rhs = constExpr_r,name = 'cargo_loads'+str(T)+str(i_dict[i])+str(i_dict[j]))\n",
    "model.update()\n",
    "                \n",
    "                \n",
    "                "
   ]
  },
  {
   "cell_type": "code",
   "execution_count": 31,
   "metadata": {},
   "outputs": [],
   "source": [
    "#we have to satisfy the total cargo each week\n",
    "for i in range(3):\n",
    "    for j in range(3):\n",
    "        if i != j:\n",
    "            constExpr_l = LinExpr()\n",
    "            for T in range(5):\n",
    "                constExpr_l += x[i][j][T]\n",
    "            model.addConstr(lhs = constExpr_l, sense = GRB.EQUAL, rhs = sum(demand[i][j]),name = 'total_deliver'+str(i_dict[i])+str(i_dict[j]))\n",
    "model.update()\n",
    "          \n",
    "        \n"
   ]
  },
  {
   "cell_type": "code",
   "execution_count": 32,
   "metadata": {},
   "outputs": [],
   "source": [
    "#constraint on total number of plane\n",
    "for T in range(5):\n",
    "    constExpr_l = LinExpr()\n",
    "    for i in range(3):\n",
    "        for j in range(3):\n",
    "            constExpr_l += x[i][j][T] + y[i][j][T]\n",
    "    model.addConstr(lhs = constExpr_l, sense = GRB.EQUAL, rhs = 1200 ,name = 'total_plane'+str(T))\n",
    "model.update()    "
   ]
  },
  {
   "cell_type": "code",
   "execution_count": 33,
   "metadata": {},
   "outputs": [
    {
     "name": "stdout",
     "output_type": "stream",
     "text": [
      "Optimize a model with 56 rows, 105 columns and 345 nonzeros\n",
      "Variable types: 0 continuous, 105 integer (0 binary)\n",
      "Coefficient statistics:\n",
      "  Matrix range     [1e+00, 1e+00]\n",
      "  Objective range  [3e+00, 1e+01]\n",
      "  Bounds range     [0e+00, 0e+00]\n",
      "  RHS range        [2e+01, 2e+03]\n",
      "Presolve time: 0.00s\n",
      "Presolved: 56 rows, 105 columns, 345 nonzeros\n",
      "Variable types: 0 continuous, 105 integer (0 binary)\n",
      "\n",
      "Root relaxation: objective 1.792500e+04, 30 iterations, 0.00 seconds\n",
      "\n",
      "    Nodes    |    Current Node    |     Objective Bounds      |     Work\n",
      " Expl Unexpl |  Obj  Depth IntInf | Incumbent    BestBd   Gap | It/Node Time\n",
      "\n",
      "*    0     0               0    17925.000000 17925.0000  0.00%     -    0s\n",
      "\n",
      "Explored 0 nodes (30 simplex iterations) in 0.01 seconds\n",
      "Thread count was 8 (of 8 available processors)\n",
      "\n",
      "Solution count 1: 17925 \n",
      "\n",
      "Optimal solution found (tolerance 1.00e-04)\n",
      "Best objective 1.792500000000e+04, best bound 1.792500000000e+04, gap 0.0000%\n"
     ]
    }
   ],
   "source": [
    "model.optimize()"
   ]
  },
  {
   "cell_type": "code",
   "execution_count": 34,
   "metadata": {},
   "outputs": [
    {
     "name": "stdout",
     "output_type": "stream",
     "text": [
      "optimal Objective: \n",
      "17925.0\n"
     ]
    }
   ],
   "source": [
    "print(\"optimal Objective: \\n\" + str(model.ObjVal))"
   ]
  },
  {
   "cell_type": "code",
   "execution_count": 35,
   "metadata": {},
   "outputs": [
    {
     "data": {
      "text/plain": [
       "[[[0, 0, 0, 0, 0],\n",
       "  [<gurobi.Var x_A_B_day_0 (value 290.0)>,\n",
       "   <gurobi.Var x_A_B_day_1 (value 200.0)>,\n",
       "   <gurobi.Var x_A_B_day_2 (value 100.0)>,\n",
       "   <gurobi.Var x_A_B_day_3 (value 400.0)>,\n",
       "   <gurobi.Var x_A_B_day_4 (value 110.0)>],\n",
       "  [<gurobi.Var x_A_C_day_0 (value 50.0)>,\n",
       "   <gurobi.Var x_A_C_day_1 (value 50.0)>,\n",
       "   <gurobi.Var x_A_C_day_2 (value 50.0)>,\n",
       "   <gurobi.Var x_A_C_day_3 (value 50.0)>,\n",
       "   <gurobi.Var x_A_C_day_4 (value 50.0)>]],\n",
       " [[<gurobi.Var x_B_A_day_0 (value 25.0)>,\n",
       "   <gurobi.Var x_B_A_day_1 (value 25.0)>,\n",
       "   <gurobi.Var x_B_A_day_2 (value 25.0)>,\n",
       "   <gurobi.Var x_B_A_day_3 (value 25.0)>,\n",
       "   <gurobi.Var x_B_A_day_4 (value 25.0)>],\n",
       "  [0, 0, 0, 0, 0],\n",
       "  [<gurobi.Var x_B_C_day_0 (value 25.0)>,\n",
       "   <gurobi.Var x_B_C_day_1 (value 25.0)>,\n",
       "   <gurobi.Var x_B_C_day_2 (value 25.0)>,\n",
       "   <gurobi.Var x_B_C_day_3 (value 25.0)>,\n",
       "   <gurobi.Var x_B_C_day_4 (value 25.0)>]],\n",
       " [[<gurobi.Var x_C_A_day_0 (value 20.0)>,\n",
       "   <gurobi.Var x_C_A_day_1 (value 60.0)>,\n",
       "   <gurobi.Var x_C_A_day_2 (value 40.0)>,\n",
       "   <gurobi.Var x_C_A_day_3 (value 40.0)>,\n",
       "   <gurobi.Var x_C_A_day_4 (value 40.0)>],\n",
       "  [<gurobi.Var x_C_B_day_0 (value 330.0)>,\n",
       "   <gurobi.Var x_C_B_day_1 (value 270.0)>,\n",
       "   <gurobi.Var x_C_B_day_2 (value 300.0)>,\n",
       "   <gurobi.Var x_C_B_day_3 (value 200.0)>,\n",
       "   <gurobi.Var x_C_B_day_4 (value 400.0)>],\n",
       "  [0, 0, 0, 0, 0]]]"
      ]
     },
     "execution_count": 35,
     "metadata": {},
     "output_type": "execute_result"
    }
   ],
   "source": [
    "x"
   ]
  },
  {
   "cell_type": "code",
   "execution_count": 36,
   "metadata": {},
   "outputs": [
    {
     "data": {
      "text/plain": [
       "[[[<gurobi.Var y_A_A_day_0 (value -0.0)>,\n",
       "   <gurobi.Var y_A_A_day_1 (value -0.0)>,\n",
       "   <gurobi.Var y_A_A_day_2 (value 75.0)>,\n",
       "   <gurobi.Var y_A_A_day_3 (value -0.0)>,\n",
       "   <gurobi.Var y_A_A_day_4 (value -0.0)>],\n",
       "  [<gurobi.Var y_A_B_day_0 (value -0.0)>,\n",
       "   <gurobi.Var y_A_B_day_1 (value -0.0)>,\n",
       "   <gurobi.Var y_A_B_day_2 (value -0.0)>,\n",
       "   <gurobi.Var y_A_B_day_3 (value -0.0)>,\n",
       "   <gurobi.Var y_A_B_day_4 (value -0.0)>],\n",
       "  [<gurobi.Var y_A_C_day_0 (value -0.0)>,\n",
       "   <gurobi.Var y_A_C_day_1 (value -0.0)>,\n",
       "   <gurobi.Var y_A_C_day_2 (value -0.0)>,\n",
       "   <gurobi.Var y_A_C_day_3 (value -0.0)>,\n",
       "   <gurobi.Var y_A_C_day_4 (value -0.0)>]],\n",
       " [[<gurobi.Var y_B_A_day_0 (value 205.0)>,\n",
       "   <gurobi.Var y_B_A_day_1 (value 140.0)>,\n",
       "   <gurobi.Var y_B_A_day_2 (value 310.0)>,\n",
       "   <gurobi.Var y_B_A_day_3 (value 95.0)>,\n",
       "   <gurobi.Var y_B_A_day_4 (value 275.0)>],\n",
       "  [<gurobi.Var y_B_B_day_0 (value -0.0)>,\n",
       "   <gurobi.Var y_B_B_day_1 (value -0.0)>,\n",
       "   <gurobi.Var y_B_B_day_2 (value 110.0)>,\n",
       "   <gurobi.Var y_B_B_day_3 (value -0.0)>,\n",
       "   <gurobi.Var y_B_B_day_4 (value -0.0)>],\n",
       "  [<gurobi.Var y_B_C_day_0 (value 255.0)>,\n",
       "   <gurobi.Var y_B_C_day_1 (value 430.0)>,\n",
       "   <gurobi.Var y_B_C_day_2 (value -0.0)>,\n",
       "   <gurobi.Var y_B_C_day_3 (value 365.0)>,\n",
       "   <gurobi.Var y_B_C_day_4 (value 275.0)>]],\n",
       " [[<gurobi.Var y_C_A_day_0 (value -0.0)>,\n",
       "   <gurobi.Var y_C_A_day_1 (value -0.0)>,\n",
       "   <gurobi.Var y_C_A_day_2 (value -0.0)>,\n",
       "   <gurobi.Var y_C_A_day_3 (value -0.0)>,\n",
       "   <gurobi.Var y_C_A_day_4 (value -0.0)>],\n",
       "  [<gurobi.Var y_C_B_day_0 (value -0.0)>,\n",
       "   <gurobi.Var y_C_B_day_1 (value -0.0)>,\n",
       "   <gurobi.Var y_C_B_day_2 (value -0.0)>,\n",
       "   <gurobi.Var y_C_B_day_3 (value -0.0)>,\n",
       "   <gurobi.Var y_C_B_day_4 (value -0.0)>],\n",
       "  [<gurobi.Var y_C_C_day_0 (value -0.0)>,\n",
       "   <gurobi.Var y_C_C_day_1 (value -0.0)>,\n",
       "   <gurobi.Var y_C_C_day_2 (value 165.0)>,\n",
       "   <gurobi.Var y_C_C_day_3 (value -0.0)>,\n",
       "   <gurobi.Var y_C_C_day_4 (value -0.0)>]]]"
      ]
     },
     "execution_count": 36,
     "metadata": {},
     "output_type": "execute_result"
    }
   ],
   "source": [
    "y"
   ]
  },
  {
   "cell_type": "code",
   "execution_count": 37,
   "metadata": {},
   "outputs": [
    {
     "data": {
      "text/plain": [
       "[[[0, 0, 0, 0, 0],\n",
       "  [<gurobi.Var z_A_B_day_0 (value -0.0)>,\n",
       "   <gurobi.Var z_A_B_day_1 (value -0.0)>,\n",
       "   <gurobi.Var z_A_B_day_2 (value -0.0)>,\n",
       "   <gurobi.Var z_A_B_day_3 (value -0.0)>,\n",
       "   <gurobi.Var z_A_B_day_4 (value 190.0)>],\n",
       "  [<gurobi.Var z_A_C_day_0 (value -0.0)>,\n",
       "   <gurobi.Var z_A_C_day_1 (value -0.0)>,\n",
       "   <gurobi.Var z_A_C_day_2 (value -0.0)>,\n",
       "   <gurobi.Var z_A_C_day_3 (value -0.0)>,\n",
       "   <gurobi.Var z_A_C_day_4 (value -0.0)>]],\n",
       " [[<gurobi.Var z_B_A_day_0 (value -0.0)>,\n",
       "   <gurobi.Var z_B_A_day_1 (value -0.0)>,\n",
       "   <gurobi.Var z_B_A_day_2 (value -0.0)>,\n",
       "   <gurobi.Var z_B_A_day_3 (value -0.0)>,\n",
       "   <gurobi.Var z_B_A_day_4 (value -0.0)>],\n",
       "  [0, 0, 0, 0, 0],\n",
       "  [<gurobi.Var z_B_C_day_0 (value -0.0)>,\n",
       "   <gurobi.Var z_B_C_day_1 (value -0.0)>,\n",
       "   <gurobi.Var z_B_C_day_2 (value -0.0)>,\n",
       "   <gurobi.Var z_B_C_day_3 (value -0.0)>,\n",
       "   <gurobi.Var z_B_C_day_4 (value -0.0)>]],\n",
       " [[<gurobi.Var z_C_A_day_0 (value 20.0)>,\n",
       "   <gurobi.Var z_C_A_day_1 (value -0.0)>,\n",
       "   <gurobi.Var z_C_A_day_2 (value -0.0)>,\n",
       "   <gurobi.Var z_C_A_day_3 (value -0.0)>,\n",
       "   <gurobi.Var z_C_A_day_4 (value -0.0)>],\n",
       "  [<gurobi.Var z_C_B_day_0 (value 70.0)>,\n",
       "   <gurobi.Var z_C_B_day_1 (value -0.0)>,\n",
       "   <gurobi.Var z_C_B_day_2 (value -0.0)>,\n",
       "   <gurobi.Var z_C_B_day_3 (value -0.0)>,\n",
       "   <gurobi.Var z_C_B_day_4 (value -0.0)>],\n",
       "  [0, 0, 0, 0, 0]]]"
      ]
     },
     "execution_count": 37,
     "metadata": {},
     "output_type": "execute_result"
    }
   ],
   "source": [
    "z"
   ]
  },
  {
   "cell_type": "code",
   "execution_count": 39,
   "metadata": {},
   "outputs": [],
   "source": [
    "model.write(filename = \"final_project_v1.lp\")\n"
   ]
  },
  {
   "cell_type": "code",
   "execution_count": null,
   "metadata": {},
   "outputs": [],
   "source": []
  },
  {
   "cell_type": "code",
   "execution_count": null,
   "metadata": {},
   "outputs": [],
   "source": []
  }
 ],
 "metadata": {
  "kernelspec": {
   "display_name": "Python 3",
   "language": "python",
   "name": "python3"
  },
  "language_info": {
   "codemirror_mode": {
    "name": "ipython",
    "version": 3
   },
   "file_extension": ".py",
   "mimetype": "text/x-python",
   "name": "python",
   "nbconvert_exporter": "python",
   "pygments_lexer": "ipython3",
   "version": "3.7.3"
  }
 },
 "nbformat": 4,
 "nbformat_minor": 2
}
